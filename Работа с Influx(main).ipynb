{
 "cells": [
  {
   "cell_type": "code",
   "execution_count": 5,
   "metadata": {},
   "outputs": [],
   "source": []
  },
  {
   "cell_type": "code",
   "execution_count": 8,
   "metadata": {},
   "outputs": [],
   "source": [
    "from influxdb import InfluxDBClient\n",
    "import socket\n",
    "import datetime\n",
    "ip = '127.0.0.1'\n",
    "port_socket = 5001\n",
    "port_influx = 8086\n",
    "timeout = 5\n",
    "data_size = 1024\n",
    "name_database = 'work log'\n",
    "client = InfluxDBClient(host = ip, port = 8086)\n",
    "client.create_database(name_database)\n",
    "client.switch_database('work log')\n",
    "with socket.socket() as sock:\n",
    "    sock.bind((ip, port_socket))\n",
    "    sock.listen()\n",
    "    while True:\n",
    "        conn, addr, = sock.accept()\n",
    "        conn.settimeout(timeout)\n",
    "        with conn:\n",
    "            try:\n",
    "                data = str(conn.recv(data_size)).split(';')\n",
    "                camera_id = data[0]\n",
    "                weather = data[1]\n",
    "                area = data[2]\n",
    "                data_body = [\n",
    "                    {\n",
    "                        \"measurement\": \"camera\",\n",
    "                        \"tags\": {\n",
    "                            \"Id\": camera_id\n",
    "                        },\n",
    "                        \"time\": datetime.datetime.now(),\n",
    "                        \"fields\": {\n",
    "                            \"area\": area\n",
    "                            \"weather\": weather\n",
    "                        }\n",
    "                    }\n",
    "                ]\n",
    "                print (data_body)\n",
    "                client.write_points(data_body)\n",
    "            except:\n",
    "                print('Error reading data')\n",
    "                break"
   ]
  },
  {
   "cell_type": "code",
   "execution_count": null,
   "metadata": {},
   "outputs": [],
   "source": []
  },
  {
   "cell_type": "code",
   "execution_count": null,
   "metadata": {},
   "outputs": [],
   "source": []
  }
 ],
 "metadata": {
  "kernelspec": {
   "display_name": "Python 3",
   "language": "python",
   "name": "python3"
  },
  "language_info": {
   "codemirror_mode": {
    "name": "ipython",
    "version": 3
   },
   "file_extension": ".py",
   "mimetype": "text/x-python",
   "name": "python",
   "nbconvert_exporter": "python",
   "pygments_lexer": "ipython3",
   "version": "3.7.4"
  }
 },
 "nbformat": 4,
 "nbformat_minor": 2
}
